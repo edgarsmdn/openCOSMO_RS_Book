{
 "cells": [
  {
   "cell_type": "markdown",
   "metadata": {},
   "source": [
    "# 3. Overview of the openCOSMO-RS_conformer_pipeline  🔍\n",
    "<br>"
   ]
  },
  {
   "cell_type": "markdown",
   "metadata": {},
   "source": [
    "If you go to the directory you previously specified, you should see a folder called **openCOSMO-RS_conformer_pipeline** \n",
    "\n",
    "Main files that can be found inside the folder:\n",
    "\n",
    "- <span style=\"color:#CD5C5C;\">ConformerGenerator.py</span> python code that is going to produce the *.orcacosmo* files to use as input in the openCOSMO program \n",
    "\n",
    "- <span style=\"color:#4682B4;\">cpcm_radii.inp:</span> optimized atomic radius used by the program<br> \n",
    "\n",
    "- <span style=\"color:#6A5ACD;\">input_parsers.py:</span> designed to analyze the sigma profiles from quantum chemistry files, i.e. our *.orcacosmo* files\n"
   ]
  }
 ],
 "metadata": {
  "language_info": {
   "codemirror_mode": {
    "name": "ipython",
    "version": 3
   },
   "file_extension": ".py",
   "mimetype": "text/x-python",
   "name": "python",
   "nbconvert_exporter": "python",
   "pygments_lexer": "ipython3",
   "version": "3.12.9"
  }
 },
 "nbformat": 4,
 "nbformat_minor": 2
}