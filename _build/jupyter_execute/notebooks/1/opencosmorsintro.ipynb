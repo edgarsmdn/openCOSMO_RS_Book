{
 "cells": [
  {
   "cell_type": "markdown",
   "metadata": {},
   "source": [
    "# I. What is COSMO-RS ❓"
   ]
  },
  {
   "cell_type": "markdown",
   "metadata": {},
   "source": [
    "<div style=\"line-height: 1.5;\">\n",
    "\n",
    "**COSMO-RS** (Conductor like screening model for real solvents) is a theoretical approach used to calculate **solvation phenomena** in chemistry [papers]. It provides a way to estimate the **thermodynamic properties** of fluid systems based solely on the molecular structure. It predicts how a solvent will behave and interact with a solute being capable of estimating different thermodynamic metrics such as **partition coefficients**, **solvation energies** and the sigma profiles have been used to correlate and predict successfully many properties including **density**, **surface tension**, and **vapor pressure**. [papers]\n",
    "\n",
    "## A bit of history 📜\n",
    "The computational description of molecules in the fluid phase represented a challenge, for the current methods at the time struggled to capture the complex interactions between the molecules like **polarization effects** and **cooperative interactions**. <br><br>\n",
    "In the 1970s, research concentrated on treating the solvent as a continuous medium surrounding the molecule. The models in use employed a concept known as '**dielectric theory**', which helps to understand how the solvent's electric field influences the solute. These models are called **SCRF** (self-consistent reaction field), and they create a boundary around the solute to simulate the solvent's effect, similar to the image below: <br><br>\n",
    "\n",
    "![bubble](bubble.png)\n",
    "\n",
    "\n",
    "The iterative process is to calculate how the solvent's electric field changed due to the solute and then adjusting until consistency is reached. This is defined as the stable state where the solute's properties remain constant and do not change upon additional calculations. <br>\n",
    "\n",
    "## COSMO-RS comes into play 🎲\n",
    "In the case of **COSMO-RS** the **COSMO** (COnductor like Screening MOdel) model [papers] is used to determine the **dielectric screening charges** and energies, using a surface around the molecule which, depending on the quantum chemical package used, can resemble the **van der Waals** or **vdW surface**. This surface is like the intersection volume of a sphere on every atom with a specific radius that outlines the shape of a molecule.<br>\n",
    "\n",
    "**Screening** means that the electric fields are counteracted, resulting in no net electric field. Therefore, instead of viewing fluids as interacting through complex fields, they are visualized as ideally screened. In the [1995 paper](https://pubs.acs.org/doi/10.1021/j100007a062) written by Andreas Klamt it shows a perfectly screened molecule, like the image below, where the purple and green points (representing the electrons) perfectly cancel each other. <br>\n",
    "\n",
    "\n",
    "\n",
    "![screened](screened.png)\n",
    "\n",
    "\n",
    "\n",
    "## The σ-profiles 📊\n",
    "However, real molecules do not have \"flat faces\", so a new concept called **effective segment area** is introduced, which are portions of the molecule's surface used to approximate interactions. This size is generally fitted to thermodynamic data. \n",
    "\n",
    "Each segment has a **uniform surface charge density** - so it can be represented as an average charge density of the area it covers. The number of possible contacts $n_{x}$ is calculated using the screening area $A_x$ , which is the total surface involved in interacting with the solvent, and the effective segment area $A_eff = \\pi*Reff^2 $, where $R_{eff}$ is the effective segment radius. [Klamt](https://pubs.acs.org/doi/10.1021/j100007a062) specifies that an effective segment radius of 1 Å (angstrom) works well. The formula is: <br> \n",
    "\n",
    "$n_{x} =A_x/A_eff $ <br>\n",
    "\n",
    "By averaging the surface charge densities over typical contact segments of molecules some peaks of the charge density can be smoothed. Additionally, we can obtain a probability function $p_x(\\sigma)$ i.e. **σ-profile**, which is like a histogram that shows the distribution of the screening charge density over the molecule's surface. For solvents that contain mulitple components, the σ-profile is the weighted sum of the component's profiles: \n",
    "\n",
    "$p_S(\\sigma) = \\Sigma x_i n^x_i p^X_i(\\sigma) / \\Sigma x_in^x_i $\n",
    "\n",
    "where:\n",
    "- $x_i$ is our molar concentration\n",
    "- $n^x$ is the contact segment \n",
    "- $p^X_i(\\sigma)$ is the effective probability function, which calculates the probability of finding an average $\\sigma$  on a typical contact segment\n",
    "\n",
    "## Real fluids vs ideal ones 💧\n",
    "As mentioned, fluids are being visualized as ideally screened where two segments with opposite surface charge densities interact perfectly so their net energy is zero. However, with real fluids it is not possible due to entropy and the non-ideal nature of molecular interactions; therefore, they do not cancel perfectly each other's charges. These non-ideal parings result in a **\"misfit energy\"**.\n",
    "\n",
    "The misfit energy represents the interaction energy of two segments with unequal surface charges. This situation occurs because the solute's surface segments pair with other surface segments with a charge density that not equal to the opposite of its charge density, resulting in a mismatch or misfit energy that balances the non-ideal screening. The misfit energy quantifies the interaction energy of two segments interacting with radius $R_{eff}$ and surface charges $\\sigma_1, \\sigma_2$. \n",
    "\n",
    "HB missing #TODO\n",
    "\n",
    "we could add dispersion here"
   ]
  },
  {
   "cell_type": "markdown",
   "metadata": {},
   "source": [
    "##  What is openCOSMO-RS ❓"
   ]
  },
  {
   "cell_type": "markdown",
   "metadata": {},
   "source": [
    "<div style=\"line-height: 1.5;\">\n",
    "\n",
    "This model **<span style=\"color:#FF6347;\">improves the predictive accuracy</span>** of the fluid phase thermodynamics by incorporating **<span style=\"color:#4682B4;\">multiple segmental descriptors</span>**. The screening charge density **$\\sigma$** is still the main descriptor, but additional ones such as the **polarity counterpart** screening charge density introduced by Andreas Klamt, **$\\sigma_⊥$**, are now being used to improve the model.  It is calculated by the formula below:\n",
    "\n",
    "$\\sigma⊥ = \\sigma_\\alpha - 0.816\\sigma_\\alpha^0 $\n",
    "\n",
    "Some additional characteristics of the model:\n",
    "\n",
    "- **<span style=\"color:#FF4500;\">Open Source</span>**: it allows people in the academic community to use, evaluate and develop the model <br>\n",
    "- **<span style=\"color:#1E90FF;\">Extended σ-Profile Generation</span>**: the new algorithm includes multiple segment descriptors in addition to the screening charge density, as mentioned above. <br>\n",
    "- **<span style=\"color:#3CB371;\">RDKit/ORCA Workflow</span>**: It uses RDKit to generate conformers and ORCA for quantum chemical calculations, which makes it easier for more academic users to implement <br>\n",
    "- **<span style=\"color:#9370DB;\">Correction to the screening charge correlation</span>**: this correction involves an additional descriptor, denoted as σ⊥, which is derived from the screening charge density. This descriptor is used to refine the electrostatic interaction energy calculations. In a molecule, the electrostatic forces play a crucial role in determining how molecules interact with each other - the charge in one area can influence the charge in another area and determine if molecules will come together or move apart\n",
    "\n",
    "More information about its implementation can be found [here](https://www.sciencedirect.com/science/article/pii/S0378381222000954).\n",
    "\n",
    "\n",
    "### openCOSMO-RS 24a 💫\n",
    "\n",
    "The openCOSMO-RS 24a is a new and improved version of the open-source COSMO-RS model. This version is designed to predict **solvation free energies** using quantum chemical calculations from ORCA. More information about it can be found [here](https://doi.org/10.1016/j.fluid.2024.114250)\n",
    "\n",
    "[papers]\n",
    "\n",
    "### What is the solvation free energy, ΔGsolv? ⚡\n",
    "\n",
    "It is the amount of energy involved when a solute dissolves from the gas phase into a solvent. It is the energy change that occurs when the particles of the solute are surrounded and stabilized by the solvent molecules. It is a contributing factor in predicting how substances will behave in a solution. <br>\n",
    "\n",
    "A positive solvation free energy value shows that the process is not energetically favourable. This means that the solute wants to stay in the gas phase, whereas a negative value shows that the process is energetically favourable, meaning that the solute prefers to be in the solvent.\n",
    "\n",
    "<div>\n"
   ]
  }
 ],
 "metadata": {
  "kernelspec": {
   "display_name": "openCOSMO_RS",
   "language": "python",
   "name": "python3"
  },
  "language_info": {
   "codemirror_mode": {
    "name": "ipython",
    "version": 3
   },
   "file_extension": ".py",
   "mimetype": "text/x-python",
   "name": "python",
   "nbconvert_exporter": "python",
   "pygments_lexer": "ipython3",
   "version": "3.12.4"
  }
 },
 "nbformat": 4,
 "nbformat_minor": 2
}