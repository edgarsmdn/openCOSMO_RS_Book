{
 "cells": [
  {
   "cell_type": "markdown",
   "metadata": {},
   "source": [
    "# 5. Calling the openCOSMO-RS_conformer_pipeline program! 🤖"
   ]
  },
  {
   "cell_type": "markdown",
   "metadata": {},
   "source": [
    "<br>\n",
    "\n",
    "**Explanation of the code:**\n",
    "\n",
    "**`python ConformerGenerator.py --structures_file file.inp --cpcm_radii cpcm_radii.inp --n_cores 2`**\n",
    "\n",
    "- <span style=\"color:#CD5C5C;\">ConformerGenerator.py</span> is code to produce the files\n",
    "\n",
    "- <span style=\"color:#DB7093;\">file.inp</span> is the input file that we created earlier, the name can change. For our example it will be *water.inp*\n",
    "\n",
    "- <span style=\"color:#20B2AA;\">cpcm_radii.inp</span> specifies the radius size of the atoms\n",
    "\n",
    " - <span style=\"color:#B0C4DE;\">n_cores 2</span> specifies the number of CPU cores to be used for the execution of the script.\n",
    "\n"
   ]
  },
  {
   "cell_type": "markdown",
   "metadata": {},
   "source": [
    "1.  Go to the terminal / command prompt in your computer and go to the directory where the repository is using the following command line:\n",
    "\n",
    "    **cd\"<span style=\"color:SteelBlue\">C:\\Users\\xx\\xx\\openCOSMO-RS_conformer_pipeline</span>\"**\n",
    "\n",
    "    *Remember to change the <span style=\"color:SteelBlue\">address</span> to the one where you have the program located* \n",
    "    <br><br>\n",
    "\n",
    "\n",
    "2. Call the program:\n",
    "\n",
    "    **python ConformerGenerator.py --structures_file file.inp --cpcm_radii cpcm_radii.inp --n_cores 2**\n",
    "    <br><br>\n",
    "\n",
    "    - *Remember to change the name of our <span style=\"color:SteelBlue\">file.inp</span> to the one we saved, in this case let's use:* **water.inp**  <br><br>\n",
    "    - *Since our file is in a different directory than our program, we need to specify the whole address*\n",
    "    <br><br>\n",
    "\n",
    "3. Click enter and you will see a series of steps where it explains that the program is running, at the end you should see the words ***La fin***. That means that the program ran completely and there were no issues.\n",
    "<br><br><br>\n",
    "\n",
    "**Here is an example of how it should look like:**\n",
    "\n",
    "![terminal](example_program_terminal.png)"
   ]
  },
  {
   "cell_type": "markdown",
   "metadata": {},
   "source": [
    "## 🛑 Things to consider 🛑\n",
    "\n",
    "<div style=\"line-height: 1.5;\">\n",
    "\n",
    "If you go to the **openCOSMO-RS repository**, you will see a folder with the name of the molecule we created, in this case *water*. \n",
    "\n",
    "**Before running the code again**, drag the file outside the folder and save it in another folder where all the .orcacosmo files are gonna be, so we have everything in order. Afterwards, you can run the program again with the other input file we created:  two_molecules.inp\n",
    "<div>"
   ]
  }
 ],
 "metadata": {
  "kernelspec": {
   "display_name": "openCOSMO_RS",
   "language": "python",
   "name": "python3"
  },
  "language_info": {
   "codemirror_mode": {
    "name": "ipython",
    "version": 3
   },
   "file_extension": ".py",
   "mimetype": "text/x-python",
   "name": "python",
   "nbconvert_exporter": "python",
   "pygments_lexer": "ipython3",
   "version": "3.12.9"
  }
 },
 "nbformat": 4,
 "nbformat_minor": 2
}