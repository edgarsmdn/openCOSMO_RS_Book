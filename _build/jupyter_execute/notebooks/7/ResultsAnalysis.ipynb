{
 "cells": [
  {
   "cell_type": "markdown",
   "metadata": {},
   "source": [
    "# 3 Results Analysis 🔍\n",
    "<br>"
   ]
  },
  {
   "cell_type": "markdown",
   "metadata": {},
   "source": [
    "<div style=\"line-height: 1.5;\">\n",
    "\n",
    "When performing a job with the **<span style=\"color:#32CD32;\">COSMO-RS</span>** function, we obtain the following results\n",
    "\n",
    "- **<span style=\"color:#FF69B4;\">Total logarithmic activity coefficient, ln(γ):</span>**  is the sum of the residual and combinatorial terms. The γ provides a measure of the deviation from ideal behavior in a mixture\n",
    "    - ln(γ) > 0 interactions between molecules are weaker than in an ideal solution\n",
    "    - ln(γ) < 0 interactions between molecules are stronger than in an ideal solution\n",
    "\n",
    "- **<span style=\"color:#9370DB;\">Residual logarithmic activity coefficient (Enthalpic Results):</span>** takes into account the specific interactions between the segments and shows the difference in energy levels compared to a reference state.\n",
    "    - (+) results means that the molecules do not interact as well as they do in the reference state. This makes them more active than you would expect for an ideal solution.\n",
    "    - (-) results indicates more favorable interactions than in the reference state, resulting in a lower activity. This could be due to strong specific interactions like hydrogen bonding\n",
    "\n",
    "- **<span style=\"color:#20B2AA;\">Combinatorial logarithmic activity coefficient:</span>** comes from the way different molecules in a mixture are shaped and their size. This is based on how much space they take up and their surface area. This term is a way of measuring the randomness of mixing molecules of different sizes.\n",
    "    - (+) results mean that there are significant size differences, leading to non-ideal mixing due to packing effects. Common for larger molecules.\n",
    "    - (-) results are less common but can occur in specific systems where the mixing of different-sized molecules leads to more efficient packing and increased entropy\n",
    "\n",
    "<div>"
   ]
  },
  {
   "cell_type": "markdown",
   "metadata": {},
   "source": [
    "<div style=\"line-height: 1.5;\">\n",
    "\n",
    "The function **<span style=\"color:#32CD32;\">plot_3D_segment_location</span>** is designed to show the 3D arrangement of molecular segments and atoms from our input file as 3D markers. The size of each marker is proportional to the area of the segment, and its color represents the charge of the segment.\n",
    "<div>\n",
    "\n",
    "![plotim](plot3dsegmentloc.png)"
   ]
  },
  {
   "cell_type": "markdown",
   "metadata": {},
   "source": [
    "<div style=\"line-height: 1.5;\">\n",
    "\n",
    "For the functions **<span style=\"color:#32CD32;\">plot_sigma_profiles</span>** & **<span style=\"color:#32CD32;\">plot_sigma_profiles_plotly</span>** , we obtain graph with the following:\n",
    "\n",
    "- **<span style=\"color:#FF6347;\">X-axis</span>** is our sigma or σ, which we already discussed is the screening charge density. The units are elementary charge per square angstrom or e/Å².\n",
    "\n",
    "- **<span style=\"color:#4682B4;\">Y-axis</span>** is the effective probability function\n",
    "\n",
    "- The sigma profile plot shows how much surface area corresponds to each charge density value. This information is useful for understanding the polarity and interaction potential of molecules, especially in the context of solvation and intermolecular interactions.\n",
    "\n",
    "- Comparing **<span style=\"color:#1E90FF;\">water</span>** (polar molecule) with **<span style=\"color:#FF8C00;\">butane</span>** and **<span style=\"color:#32CD32;\">pentane</span>** (non-polar), we can see that the density charge is widely distributed around the molecule as in comparison to the other two.\n",
    "\n",
    "![sigmaprofiles](pentane_butane_water.png)\n",
    "<div>"
   ]
  },
  {
   "cell_type": "markdown",
   "metadata": {},
   "source": [
    "<div style=\"line-height: 1.5;\">\n",
    "\n",
    "Furthermore, the **<span style=\"color:#32CD32;\">plot_extended_sigmaprofiles_plotly</span>**  function, the graph that is displayed has the following characteristics:\n",
    "\n",
    "- **<span style=\"color:#FF6347;\">X-axis</span>** is our sigma or σ, in elementary charge per square angstroms or $e/10^{⁻20} m^2$. Similar to the x-axis of our previous function\n",
    "\n",
    "- **<span style=\"color:#4682B4;\">Y-axis</span>** is the orthogonal Surface Charge Density in elementary charge per square angstroms, which captures variations in charge density perpendicular to the main charge distribution. It's a bit like looking at the charge from a different angle. It helps us understand more about how the charge is spread out on the surface.\n",
    "\n",
    "- What Do the Circles Mean?\n",
    "    -  Each circle shows a small region or area on the surface of the molecule, and their color tells us what kind of atoms are in that region.\n",
    "\n",
    "<div>\n"
   ]
  },
  {
   "cell_type": "markdown",
   "metadata": {},
   "source": [
    "![mptfa](mptfa.png)"
   ]
  }
 ],
 "metadata": {
  "language_info": {
   "codemirror_mode": {
    "name": "ipython",
    "version": 3
   },
   "file_extension": ".py",
   "mimetype": "text/x-python",
   "name": "python",
   "nbconvert_exporter": "python",
   "pygments_lexer": "ipython3",
   "version": "3.12.9"
  }
 },
 "nbformat": 4,
 "nbformat_minor": 2
}