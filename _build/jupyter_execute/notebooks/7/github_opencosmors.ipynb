{
 "cells": [
  {
   "cell_type": "markdown",
   "metadata": {},
   "source": [
    "# II. openCOSMO-RS\n",
    "<br>"
   ]
  },
  {
   "cell_type": "markdown",
   "metadata": {},
   "source": [
    "## 1. Program download  💡"
   ]
  },
  {
   "cell_type": "markdown",
   "metadata": {},
   "source": [
    "<div style=\"line-height: 1.5;\">\n",
    "\n",
    "You can find the repository [here](https://github.com/TUHH-TVT/openCOSMO-RS_py/tree/master).\n",
    "\n",
    "For python, I recommend to create an virtual environment where you can install the package directly and activate it everytime you want to use it. For more information about the creation of environments, see [here](https://docs.python.org/3/library/venv.html) or [here](https://docs.conda.io/projects/conda/en/latest/user-guide/tasks/manage-environments.html).\n",
    "<br><br>\n",
    "\n",
    "We can install the program via pip, typing the following line:\n",
    "\n",
    "**<span style=\"color:SteelBlue\">pip install git+https://github.com/TUHH-TVT/openCOSMO-RS_py</span>** \n",
    "\n",
    "<div>"
   ]
  }
 ],
 "metadata": {
  "language_info": {
   "codemirror_mode": {
    "name": "ipython",
    "version": 3
   },
   "file_extension": ".py",
   "mimetype": "text/x-python",
   "name": "python",
   "nbconvert_exporter": "python",
   "pygments_lexer": "ipython3",
   "version": "3.12.9"
  }
 },
 "nbformat": 4,
 "nbformat_minor": 2
}