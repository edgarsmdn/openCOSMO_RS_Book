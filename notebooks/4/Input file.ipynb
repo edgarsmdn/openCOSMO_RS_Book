{
 "cells": [
  {
   "cell_type": "markdown",
   "metadata": {},
   "source": [
    "# 4. Let's create the input file 🧪\n",
    "<br>\n"
   ]
  },
  {
   "cell_type": "markdown",
   "metadata": {},
   "source": [
    "<div style=\"line-height: 1.5;\">\n",
    "\n",
    "This inp. file is gonna be the base for the creation of our *.orcacosmo* that we are gonna use in the openCOSMO-RS program.\n",
    "\n",
    "The first step is to generate a *.inp* type file with some information about the molecule. The formatting should be the following: \n",
    "\n",
    "**<span style=\"color:LightCoral\">name_of_molecule</span>  [TAB] <span style=\"color:Plum\">SMILES_of_molecule</span>  [TAB]  <span style=\"color:LightSteelBlue\">*xyz_file*</span>  [TAB]  <span style=\"color:LightSeaGreen\">charge_of_molecule</span>  [TAB]  <span style=\"color:#DB7093\">geometry_optimization</span>**\n",
    "\n",
    "- **<span style=\"color:LightCoral\">name_of_molecule:</span>** any name like methanol, water, etc.\n",
    "\n",
    "- **<span style=\"color:Plum\">SMILES_of_molecule:</span>** SMILES are way to represent a molecule’s structure through string characters. For methanol it would be: CO, for water O. In websites like [Pubchem](https://pubchem.ncbi.nlm.nih.gov/docs/structure-search) and [Chemspider](https://www.chemspider.com/) SMILES are available for a variety of molecules\n",
    "\n",
    "- **<span style=\"color:LightSteelBlue\">*xyz_file:*</span>** text file used to describe the geometry of the molecule, it contains the 3D information about all the atoms in the molecule\n",
    "\n",
    "- **<span style=\"color:LightSeaGreen\">charge_of_molecule:</span>** can be neutral molecules: 0, or cations +1, +2 or anions: -1, -2\n",
    "\n",
    "- **<span style=\"color:#DB7093\">geometry_optimization:</span>** if the optimization should be performed, write **TRUE**, if not, **FALSE** or **leave blank**. The geometry optimization is to find the arrangement of atoms in a molecule that corresponds to the lowest possible energy state, so called *equilibrium geometry* <br><br>\n",
    "\n",
    "The **<span style=\"color:LightSteelBlue\">*xyz_file*</span>** is optional to include as well as the <span style=\"color:#DB7093\">geometry_optimization</span> <br><br>\n",
    "\n",
    "- If we do not have an xyz_file, the program will use Python's library RDKit or Balloon to search for a conformer before sending it to xtb to do an extensive conformer search. At the end the program will give us an xyz file that generated based on those calculations <br>\n",
    "\n",
    "- If we do not include the geometry optimization, the last calculations will be made using the xyz file only without optimizing the position of the atoms<br>\n",
    "\n",
    "<br>\n",
    "\n",
    "If we want to create an input file for the water molecule we can do:\n",
    "\n",
    "**water [TAB] O [TAB] [TAB] 0**\n",
    "\n",
    "In this we did not include the <span style=\"color:LightSteelBlue\">*xyz_file*</span> and  the <span style=\"color:#DB7093\">geometry_optimization</span>\n",
    "\n",
    "<br>\n",
    "<div>"
   ]
  },
  {
   "cell_type": "markdown",
   "metadata": {},
   "source": [
    "**For every line that you have the following symbols: ⚠️⚠️⚠️ you need to modify and specify the correct address in your computer** "
   ]
  },
  {
   "cell_type": "code",
   "execution_count": null,
   "metadata": {},
   "outputs": [
    {
     "name": "stdout",
     "output_type": "stream",
     "text": [
      "File created  at input_files\\water.inp\n"
     ]
    }
   ],
   "source": [
    "# Let's now create and save our file\n",
    "#the [TAB] in python is represented with '\\t'\n",
    "content = 'water\\tO\\t\\t0'\n",
    "\n",
    "#set up the file path and name the file ⚠️⚠️⚠️\n",
    "file_path = r\"INPUT_FILES\\water.inp\"\n",
    "\n",
    "# Open a file in write mode\n",
    "with open(file_path, \"w\") as file:\n",
    "    file.write(content)\n",
    "\n",
    "print(f\"File created  at {file_path}\")"
   ]
  },
  {
   "cell_type": "markdown",
   "metadata": {},
   "source": [
    "<div style=\"line-height: 1.5;\">\n",
    "Moreover, you can add more than one molecule in the input file! <br>\n",
    "Let's create it for butane and pentane, for the first molecule we will include the requirements and for the latter we will not, to see the different ways we can set up our input file. <br>\n",
    "Let's do it for butane and pentane: <br>\n",
    "\n",
    "- For **butane** we will include the <span style=\"color:LightSteelBlue\">*xyz_file*</span> and  the <span style=\"color:#DB7093\">geometry_optimization</span> <br>\n",
    "- For **pentane** we will omit both <span style=\"color:#DB7093\">geometry_optimization</span> \n",
    "\n",
    "<br><br>\n",
    "\n",
    "First let's create the <span style=\"color:LightSteelBlue\">*xyz_file*</span> file for butane, an <span style=\"color:LightSteelBlue\">*xyz_file*</span> file is a simple text file format used to describe atomic coordinates in a molecule. It can be obtained from online databases.\n",
    "\n",
    "This is what the file should have:\n",
    "\n",
    "1. **First Line**: Contains the number of atoms in the molecule.\n",
    "2. **Second Line**: A comment line, which can be left blank or used to describe the molecule.\n",
    "3. **Subsequent Lines**: Each line corresponds to an atom and includes the chemical symbol of the atom and the X, Y, and Z coordinates of the atom in space.\n",
    "\n",
    "\n",
    "<div>"
   ]
  },
  {
   "cell_type": "code",
   "execution_count": null,
   "metadata": {},
   "outputs": [
    {
     "name": "stdout",
     "output_type": "stream",
     "text": [
      "File created  at input_files\\butane_xyz_file.xyz\n"
     ]
    }
   ],
   "source": [
    "#first we set up the file path and name the file ⚠️⚠️⚠️\n",
    "file_path = r\"INPUT_FILES\\butane_xyz_file.xyz\"\n",
    "\n",
    "#remember that the formula for butane is C4H10, so we have 14 atoms in total \n",
    "# and 14 lines of the xyz coordinates\n",
    "\n",
    "data =[\n",
    "\"\"\"14\n",
    "energy: -158.5047254379879860\n",
    "C  1.9543949951702300  0.1066957079000400  0.1775875249139100\n",
    "C  0.4882751879667100  0.5453039742252200  0.2277970663069400\n",
    "C  -0.4882287405492300  -0.5452110216957901  -0.2281787312959500\n",
    "C  -1.9543910949774299  -0.1067726259116600  -0.1772934340389700\n",
    "H  2.2499857554831100  -0.1758360459389800  -0.8445376818148200\n",
    "H  2.6285568228203302  0.9095199005446900  0.5096167887711700\n",
    "H  2.1305732780439999  -0.7660158334354400  0.8251181873099500\n",
    "H  0.3484260931082300  1.4411742720395899  -0.4016176143351700\n",
    "H  0.2297988124954200  0.8546292299119000  1.2553444804038401\n",
    "H  -0.2301753030818900  -0.8541267816543600  -1.2559543749457500\n",
    "H  -0.3480843754759300  -1.4412851333271901  0.4008742289139700\n",
    "H  -2.1311096320036498  0.7656513725151000  -0.8250616913889099\n",
    "H  -2.6286360949013798  -0.9098232985523900  -0.5086067693224000\n",
    "H  -2.2493857040985001  0.1760962833792700  0.8449120205221400\n",
    "\"\"\"]\n",
    "\n",
    "with open(file_path, 'w') as file:\n",
    "    file.write(data[0])\n",
    "\n",
    "print(f\"File created  at {file_path}\")"
   ]
  },
  {
   "cell_type": "code",
   "execution_count": null,
   "metadata": {},
   "outputs": [
    {
     "name": "stdout",
     "output_type": "stream",
     "text": [
      "File created  at input_files\\two_molecules.inp\n"
     ]
    }
   ],
   "source": [
    "molecules= [\n",
    "    \"butane\\tCCCC\\tbutane_xyz_file\\t0\\tTrue\",\n",
    "    \"pentane\\tCCCCC\\t\\t0\\tFalse\"\n",
    "]\n",
    "\n",
    "#set up the file path and name the file ⚠️⚠️⚠️\n",
    "file_path = r\"INPUT_FILES\\two_molecules.inp\"\n",
    "\n",
    "# Open a file in write mode\n",
    "with open(file_path, \"w\") as file:\n",
    "    # Join the list items with a newline character\n",
    "    file.write(\"\\n\".join(molecules))\n",
    "\n",
    "print(f\"File created  at {file_path}\")"
   ]
  }
 ],
 "metadata": {
  "kernelspec": {
   "display_name": "openCOSMO_RS",
   "language": "python",
   "name": "python3"
  },
  "language_info": {
   "codemirror_mode": {
    "name": "ipython",
    "version": 3
   },
   "file_extension": ".py",
   "mimetype": "text/x-python",
   "name": "python",
   "nbconvert_exporter": "python",
   "pygments_lexer": "ipython3",
   "version": "3.12.9"
  }
 },
 "nbformat": 4,
 "nbformat_minor": 2
}
