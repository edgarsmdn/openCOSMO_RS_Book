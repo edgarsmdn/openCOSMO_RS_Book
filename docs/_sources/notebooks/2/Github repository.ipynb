{
 "cells": [
  {
   "cell_type": "markdown",
   "metadata": {},
   "source": [
    "# 2. Program download  💡\n",
    "<br>"
   ]
  },
  {
   "cell_type": "markdown",
   "metadata": {},
   "source": [
    "<div style=\"line-height: 1.5;\">\n",
    "\n",
    "You can find the repository [here](openCOSMO-RS_conformer_pipeline)\n",
    "\n",
    "1. Open up the terminal or command prompt in you computer and go to a **specific directory** where you want your repository to be, using the command ***cd***\n",
    "    - <span style=\"color:SteelBlue\">cd \"C:\\Users\\xxx\\xxx\"</span> \n",
    "\n",
    "    (make sure that when you write ***cd*** you leave a space out and then write the path you want between quotation marks \" \" and **modify the address**) <br><br>\n",
    "\n",
    "2. Run the following command to download the repository in the specified directory:\n",
    "    - <span style=\"color:SteelBlue\">git clone https://github.com/TUHH-TVT/openCOSMO-RS_conformer_pipeline.git </span> \n",
    "\n",
    "\n",
    "<div>\n"
   ]
  }
 ],
 "metadata": {
  "language_info": {
   "name": "python"
  }
 },
 "nbformat": 4,
 "nbformat_minor": 2
}
