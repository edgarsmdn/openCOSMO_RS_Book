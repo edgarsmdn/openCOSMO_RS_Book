{
 "cells": [
  {
   "cell_type": "markdown",
   "id": "02afa89f",
   "metadata": {},
   "source": [
    "# References\n",
    "\n",
    "```{bibliography}\n",
    ":style: unsrt\n",
    "```"
   ]
  }
 ],
 "metadata": {
  "language_info": {
   "name": "python"
  }
 },
 "nbformat": 4,
 "nbformat_minor": 5
}
